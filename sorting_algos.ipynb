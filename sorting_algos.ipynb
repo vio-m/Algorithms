{
 "cells": [
  {
   "cell_type": "code",
   "execution_count": 1,
   "metadata": {},
   "outputs": [],
   "source": [
    "import time\n",
    "import random"
   ]
  },
  {
   "cell_type": "code",
   "execution_count": 2,
   "metadata": {},
   "outputs": [],
   "source": [
    "N = 10000\n",
    "A = list(range(1, N+1))\n",
    "random.shuffle(A)"
   ]
  },
  {
   "cell_type": "code",
   "execution_count": 3,
   "metadata": {},
   "outputs": [],
   "source": [
    "def timed_func(function_to_be_timed):      \n",
    "    def timed(*args, **kwargs):            \n",
    "        start = time.perf_counter()\n",
    "        function_to_be_timed(*args, **kwargs)\n",
    "        Name = \"Algorithm name: \" + function_to_be_timed.__name__\n",
    "        Time = \"%.2f\" % ((time.perf_counter() - start) * 1000000)\n",
    "        Message = \"Elapsed Time: \" + str(Time) + \" microseconds\"\n",
    "        return Name, Message\n",
    "    return timed"
   ]
  },
  {
   "cell_type": "code",
   "execution_count": 4,
   "metadata": {},
   "outputs": [],
   "source": [
    "def swap(A, i, j):\n",
    "    A[i], A[j] = A[j], A[i]\n",
    "    \n",
    "@timed_func\n",
    "def bubble_sort(A):\n",
    "    swapped = True\n",
    "      \n",
    "    for i in range(len(A) - 1):\n",
    "        if not swapped:\n",
    "            return\n",
    "        swapped = False\n",
    "          \n",
    "        for j in range(len(A) - 1 - i):\n",
    "            if A[j] > A[j + 1]:\n",
    "                swap(A, j, j + 1)\n",
    "                swapped = True\n",
    "            return A\n",
    "        "
   ]
  },
  {
   "cell_type": "code",
   "execution_count": 5,
   "metadata": {},
   "outputs": [],
   "source": [
    "@timed_func\n",
    "def insertion_sort(A):\n",
    "\n",
    "    for i in range(1, len(A)):\n",
    "        j = i-1\n",
    "        while j >=0 and A[i] < A[j] :\n",
    "                A[j+1] = A[j]\n",
    "                j -= 1\n",
    "        A[j+1] = A[i]\n",
    "    return A\n"
   ]
  },
  {
   "cell_type": "code",
   "execution_count": 6,
   "metadata": {},
   "outputs": [],
   "source": [
    "@timed_func\n",
    "def merge_sort(A):\n",
    "\n",
    "    if len(A)>1:\n",
    "        mid = len(A)//2\n",
    "        left = A[:mid]\n",
    "        right = A[mid:]\n",
    "\n",
    "        merge_sort(left)\n",
    "        merge_sort(right)\n",
    "        i=j=k=0       \n",
    "        while i < len(left) and j < len(right):\n",
    "            if left[i] < right[j]:\n",
    "                A[k]=left[i]\n",
    "                i=i+1\n",
    "            else:\n",
    "                A[k]=right[j]\n",
    "                j=j+1\n",
    "            k=k+1\n",
    "\n",
    "        while i < len(left):\n",
    "            A[k]=left[i]\n",
    "            i=i+1\n",
    "            k=k+1\n",
    "\n",
    "        while j < len(right):\n",
    "            A[k]=right[j]\n",
    "            j=j+1\n",
    "            k=k+1\n",
    "    return A\n"
   ]
  },
  {
   "cell_type": "code",
   "execution_count": 7,
   "metadata": {},
   "outputs": [],
   "source": [
    "@timed_func\n",
    "def quick_sort(A):\n",
    "\n",
    "    less = []\n",
    "    equal = []\n",
    "    greater = []\n",
    "\n",
    "    if len(A) > 1:\n",
    "        pivot = A[0]\n",
    "        for x in A:\n",
    "            if x < pivot:\n",
    "                less.append(x)\n",
    "            elif x == pivot:\n",
    "                equal.append(x)\n",
    "            elif x > pivot:\n",
    "                greater.append(x)\n",
    "        return quick_sort(less), equal, quick_sort(greater)\n",
    "    else:  \n",
    "        return A\n",
    "    "
   ]
  },
  {
   "cell_type": "code",
   "execution_count": 8,
   "metadata": {},
   "outputs": [
    {
     "name": "stdout",
     "output_type": "stream",
     "text": [
      "('Algorithm name: bubble_sort', 'Elapsed Time: 19.13 microseconds') \n",
      " ('Algorithm name: insertion_sort', 'Elapsed Time: 14956.87 microseconds') \n",
      " ('Algorithm name: merge_sort', 'Elapsed Time: 304202.57 microseconds') \n",
      " ('Algorithm name: quick_sort', 'Elapsed Time: 46018.02 microseconds')\n"
     ]
    }
   ],
   "source": [
    "print(bubble_sort(A),'\\n', insertion_sort(A),'\\n', merge_sort(A),'\\n', quick_sort(A))"
   ]
  },
  {
   "cell_type": "code",
   "execution_count": null,
   "metadata": {},
   "outputs": [],
   "source": []
  },
  {
   "cell_type": "code",
   "execution_count": null,
   "metadata": {},
   "outputs": [],
   "source": []
  },
  {
   "cell_type": "code",
   "execution_count": null,
   "metadata": {},
   "outputs": [],
   "source": []
  },
  {
   "cell_type": "code",
   "execution_count": null,
   "metadata": {},
   "outputs": [],
   "source": []
  }
 ],
 "metadata": {
  "kernelspec": {
   "display_name": "Python 3",
   "language": "python",
   "name": "python3"
  },
  "language_info": {
   "codemirror_mode": {
    "name": "ipython",
    "version": 3
   },
   "file_extension": ".py",
   "mimetype": "text/x-python",
   "name": "python",
   "nbconvert_exporter": "python",
   "pygments_lexer": "ipython3",
   "version": "3.8.3"
  }
 },
 "nbformat": 4,
 "nbformat_minor": 4
}